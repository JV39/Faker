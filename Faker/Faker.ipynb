{
 "cells": [
  {
   "cell_type": "code",
   "execution_count": 1,
   "metadata": {},
   "outputs": [],
   "source": [
    "from faker import Faker"
   ]
  },
  {
   "cell_type": "code",
   "execution_count": 2,
   "metadata": {},
   "outputs": [],
   "source": [
    "fake = Faker()"
   ]
  },
  {
   "cell_type": "code",
   "execution_count": 12,
   "metadata": {},
   "outputs": [
    {
     "name": "stdout",
     "output_type": "stream",
     "text": [
      "fake name: Jill Smith\n",
      "Job: Industrial buyer\n",
      "fake address: 188 Nicholas Rest Suite 129\n",
      "West Stephanieborough, MD 83342\n",
      "fake text:Throw far important world. Policy story imagine list itself crime against.\n",
      "If rule wrong.\n"
     ]
    }
   ],
   "source": [
    "print(\"fake name: \" + fake.name())\n",
    "print(\"Job: \" + fake.job())\n",
    "print(\"fake address: \" + fake.address())\n",
    "print(\"fake text:\" + fake.text())"
   ]
  },
  {
   "cell_type": "code",
   "execution_count": 13,
   "metadata": {},
   "outputs": [],
   "source": [
    "# + jinja2\n",
    "from jinja2 import Environment, FileSystemLoader"
   ]
  },
  {
   "cell_type": "code",
   "execution_count": 33,
   "metadata": {},
   "outputs": [],
   "source": [
    "class User:\n",
    "\n",
    "    def __init__(self, first_name, last_name, occupation):\n",
    "\n",
    "        self.first_name = first_name\n",
    "        self.last_name = last_name\n",
    "        self.occupation = occupation\n",
    "\n",
    "faker = Faker()\n",
    "users = []\n",
    "\n",
    "for _ in range(10):\n",
    "\n",
    "    first_name = faker.first_name()\n",
    "    last_name = faker.last_name()\n",
    "    occupation = faker.job()\n",
    "\n",
    "    user = User(first_name, last_name, occupation)\n",
    "\n",
    "    users.append(user)\n",
    "\n",
    "file_loader = FileSystemLoader('templates')\n",
    "env = Environment(loader=file_loader)\n",
    "\n",
    "# To correct\n",
    "template = env.get_template('users.xml.j2.xml')\n",
    "output = template.render(users=users)\n",
    "\n",
    "print(output, file=open('./templates/output/users.xml', 'w'))"
   ]
  },
  {
   "cell_type": "code",
   "execution_count": 24,
   "metadata": {},
   "outputs": [],
   "source": [
    "import jinja2"
   ]
  },
  {
   "cell_type": "code",
   "execution_count": 26,
   "metadata": {},
   "outputs": [
    {
     "data": {
      "text/plain": [
       "'users.xml.j2'"
      ]
     },
     "execution_count": 26,
     "metadata": {},
     "output_type": "execute_result"
    }
   ],
   "source": [
    "TEMPLATE_FILE"
   ]
  },
  {
   "cell_type": "code",
   "execution_count": null,
   "metadata": {},
   "outputs": [],
   "source": []
  }
 ],
 "metadata": {
  "kernelspec": {
   "display_name": "Python 3",
   "language": "python",
   "name": "python3"
  },
  "language_info": {
   "codemirror_mode": {
    "name": "ipython",
    "version": 3
   },
   "file_extension": ".py",
   "mimetype": "text/x-python",
   "name": "python",
   "nbconvert_exporter": "python",
   "pygments_lexer": "ipython3",
   "version": "3.7.6"
  }
 },
 "nbformat": 4,
 "nbformat_minor": 4
}
